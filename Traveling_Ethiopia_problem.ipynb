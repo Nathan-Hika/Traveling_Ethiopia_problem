{
 "cells": [
  {
   "cell_type": "markdown",
   "id": "23932db2",
   "metadata": {},
   "source": [
    "# 1. Consider Figure 1 (A generic state space graph for traveling Ethiopia search problem) to solve the following problems."
   ]
  },
  {
   "cell_type": "markdown",
   "id": "f0df5627",
   "metadata": {},
   "source": [
    "1.1)Convert Figure 1, a State space graph for traveling Ethiopia search problem, into some\n",
    "sort of manageable data structure such as, stack or queue."
   ]
  },
  {
   "cell_type": "code",
   "execution_count": 52,
   "id": "fbea31aa",
   "metadata": {},
   "outputs": [],
   "source": [
    "from collections import deque #importing deque class from collections Module. \n",
    "#A deque is a double-ended queue that allows efficient append and pop operations from both ends.\n",
    "infinity = float('inf')  #Used to represent an infinite distance or cost in graph. \n",
    "\n",
    "class Graph: \n",
    "    def __init__(self, graph_dict=None, directed=True):\n",
    "        self.graph_dict = graph_dict or {}\n",
    "        self.directed = directed        \n",
    "    def nodes(self):        \n",
    "        return list(self.graph_dict.keys())    \n",
    "    def get(self, a, b=None):\n",
    "        links = self.graph_dict.get(a) \n",
    "        if b is None:\n",
    "            return links    \n",
    "       \n",
    "class Problem: \n",
    "    def __init__(self, initial, goal=None):\n",
    "       self.initial = initial\n",
    "       self.goal = goal\n",
    "\n",
    "    def goal_test(self, state):\n",
    "        return state == self.goal\n",
    "    \n",
    "    def actions(self, state):\n",
    "         raise NotImplementedError\n",
    "\n",
    "    def result(self, state, action):\n",
    "        raise NotImplementedError\n",
    "            \n",
    "    def value(self, state):\n",
    "        raise NotImplementedError\n",
    "  \n",
    "   \n",
    "class GraphProblem(Problem):  \n",
    "    def __init__(self, initial, goal, graph):\n",
    "        Problem.__init__(self, initial, goal)\n",
    "        self.graph = graph\n",
    "    def actions(self, A):        \n",
    "        return self.graph.get(A)\n",
    "    def result(self, state, action):\n",
    "        return action\n",
    "\n",
    "class Node: \n",
    "    def __init__(self, state, parent=None, action=None):\n",
    "        self.state = state\n",
    "        self.parent = parent\n",
    "        self.action = action \n",
    "        self.depth = 0\n",
    "        if parent:\n",
    "            self.depth = parent.depth + 1\n",
    "    def __repr__(self): \n",
    "        return \"<Node \"+ self.state + \">\"\n",
    "    def expand(self, problem): \n",
    "        children = []\n",
    "        for action in problem.actions(self.state):\n",
    "            x=self.child_node(problem,action)\n",
    "            children.append(x)\n",
    "        return children\n",
    "    def child_node(self, problem, action):\n",
    "        next_state = problem.result(self.state, action)\n",
    "        next_node = Node(next_state, self, action )   \n",
    "        return next_node   \n",
    "    def path(self): \n",
    "        node, path_back = self, []\n",
    "        while node: \n",
    "            path_back.append(node)\n",
    "            node = node.parent\n",
    "        return list(reversed(path_back)) \n",
    "    def solution(self): \n",
    "        return [node.state for node in self.path()]\n",
    "\n",
    "Travel_Ethiopia = Graph(dict( {'Addis Ababa': {'Adama', 'Debre Berhan', 'Ambo'},\n",
    "             'Adama': {'Matahara', 'Asella', 'Batu', 'Addis Ababa'}, \n",
    "             'Debre Berhan': {'Addis Ababa', 'Debre Sina'},\n",
    "             'Ambo': {'Wolkite', 'Addis Ababa', 'Nekemte'},  \n",
    "             'Matahara': {'Adama', 'Awash'}, \n",
    "             'Asella': {'Adama', 'Assasa'}, \n",
    "             'Batu': {'Adama', 'Buta Jirra', 'Shashamene'}, \n",
    "             'Wolkite': {'Ambo', 'Worabe', 'Jimma'}, \n",
    "             'Nekemte': {'Ambo', 'Bedelle', 'Gimbi'}, \n",
    "             'Debre Sina': {'Debre Berhan', 'Kemise', 'Debre Markos'}, \n",
    "             'Awash': {'Chiro', 'Gobi Rasu', 'Matahara'}, \n",
    "             'Assasa': {'Asella', 'Dodolla'}, \n",
    "             'Buta Jirra': {'Batu', 'Worabe'}, \n",
    "             'Shashamene': {'Batu', 'Hawassa', 'Dodolla', 'Hossana'}, \n",
    "             'Worabe': {'Wolkite', 'Hossana', 'Buta Jirra'}, \n",
    "             'Jimma': {'Wolkite', 'Bonga', 'Bedelle'}, \n",
    "            'Bedelle': {'Nekemte', 'Gore', 'Jimma'}, \n",
    "             'Gimbi': {'Nekemte', 'Dambidollo'}, \n",
    "             'Kemise': {'Debre Sina', 'Dessie'}, \n",
    "             'Debre Markos': {'Debre Sina', 'Finote Selam'},\n",
    "             'Chiro': {'Awash', 'Dire Dawa'}, \n",
    "             'Gobi Rasu': {'Awash', 'Samara'}, \n",
    "             'Dodolla': {'Assasa', 'Shashamene', 'Bale'}, \n",
    "             'Hawassa': {'Shashamene', 'Dilla'}, \n",
    "             'Hossana': {'Shashamene', 'Worabe', 'Wolaita Sodo'}, \n",
    "             'Bonga': {'Jimma', 'Dawro', 'Tepi', 'Mizan Teferi'}, \n",
    "             'Gore': {'Tepi', 'Gambella', 'Bedelle'}, \n",
    "             'Dambidollo': {'Gimbi', 'Assosa', 'Gambella'}, \n",
    "            'Dessie': {'Kemise', 'Woldia'}, \n",
    "            'Finote Selam': {'Debre Markos', 'Bahirdar', 'Injibara'}, \n",
    "             'Dire Dawa': { 'Chiro', 'Harar'}, \n",
    "             'Samara': { 'Gobi Rasu', 'Fanti Rasu', 'Alamata', 'Woldia'},\n",
    "            'Bale': {'Liben', 'Dodolla', 'Goba', 'Sof Oumer'}, \n",
    "             'Dilla': {'Hawassa', 'Bulehora'}, \n",
    "             'Wolaita Sodo': {'Arba Minchi', 'Dawro', 'Hossana'}, \n",
    "             'Dawro': { 'Bonga', 'Basketo', 'Wolaita Sodo'}, \n",
    "             'Tepi': {'Gore', 'Bonga', 'Mizan Teferi'}, \n",
    "            'Mizan Teferi': {'Tepi', 'Bonga', 'Basketo'}, \n",
    "             'Gambella': {'Gore', 'Dambidollo'}, \n",
    "             'Assosa': {'Dambidollo', 'Metekel'}, \n",
    "            'Woldia': {'Dessie', 'Lalibella', 'Samara', 'Alamata'},\n",
    "             'Bahirdar': {'Finote Selam', 'Injibara', 'Metekel', 'Azezo', 'Debre Tabor'}, \n",
    "             'Injibara': {'Bahirdar', 'Finote Selam'}, \n",
    "             'Harar': { 'Dire Dawa', 'Babile'}, \n",
    "             'Fanti Rasu': {'Samara', 'Kilbet Rasu'}, \n",
    "             'Alamata': {'Samara', 'Woldia', 'Mekelle', 'Sekota'}, \n",
    "             'Liben': {'Bale'}, \n",
    "             'Goba': {'Bale', 'Sof Oumer', 'Dega Habur'}, \n",
    "             'Sof Oumer': {'Goba', 'Bale', 'Kebri Dehar'}, \n",
    "            'Bulehora': { 'Dilla', 'Yabello'}, \n",
    "            'Arba Minchi': {'Wolaita Sodo', 'Konso', 'Basketo'}, \n",
    "             'Basketo': { 'Arba Minchi', 'Dawro', 'Mizan Teferi', 'Benchi Maji'}, \n",
    "             'Metekel': { 'Assosa', 'Bahirdar'},\n",
    "             'Lalibella': {'Woldia', 'Debre Tabor', 'Sekota'},\n",
    "             'Debre Tabor': {'Lalibella', 'Bahirdar'}, \n",
    "             'Azezo': {'Gondar', 'Bahirdar', 'Metema'}, \n",
    "             'Babile': { 'Harar', 'Jigjiga'}, \n",
    "             'Kilbet Rasu': {'Fanti Rasu' }, \n",
    "             'Mekelle': {'Alamata', 'Adwa', 'Adigrat', 'Sekota'}, \n",
    "             'Sekota': {'Alamata', 'Mekelle', 'Lalibella'}, \n",
    "            'Dega Habur': {'Goba', 'Jigjiga', 'Kebri Dehar'}, \n",
    "            'Kebri Dehar': {'Gode', 'Sof Oumer', 'Dega Habur', 'Werdez'}, \n",
    "            'Yabello': { 'Bulehora', 'Konso', 'Moyale'}, \n",
    "            'Konso': {'Arba Minchi', 'Yabello'}, \n",
    "            'Benchi Maji': { 'Basketo'}, \n",
    "            'Gondar': { 'Azezo', 'Metema', 'Debarke'},\n",
    "            'Metema': { 'Azezo', 'Gondar'},  \n",
    "            'Jigjiga': { 'Babile', 'Dega Habur'}, \n",
    "            'Adwa': { 'Mekelle', 'Axum', 'Adigrat'},\n",
    "            'Adigrat': { 'Mekelle', 'Adwa'}, \n",
    "            'Gode': { 'Dollo', 'Kebri Dehar' }, \n",
    "            'Werdez': { 'Kebri Dehar'}, \n",
    "            'Moyale': { 'Yabello'}, \n",
    "            'Debarke': { 'Gondar', 'Shire'}, \n",
    "            'Axum': {'Shire', 'Adwa'},  \n",
    "            'Shire': { 'Axum', 'Humera', 'Debarke'},\n",
    "            'Humera': { 'Shire', 'Gondar'},\n",
    "            'Dollo': { 'Gode'}}),\n",
    "             False)\n"
   ]
  },
  {
   "cell_type": "markdown",
   "id": "7e2dd6a9",
   "metadata": {},
   "source": [
    "1.2 Write a class that takes the converted state space graph, initial state, goal state and a\n",
    "search strategy and return the corresponding solution/path according to the given strategy.\n",
    "Please consider only breadth-first search and depth-first search strategies for this question."
   ]
  },
  {
   "cell_type": "code",
   "execution_count": 53,
   "id": "a1cba65e",
   "metadata": {},
   "outputs": [],
   "source": [
    "#BFS \n",
    "def breadth_first_search(problem): \n",
    "    node = Node(problem.initial)\n",
    "    if problem.goal_test(node.state):\n",
    "        return node\n",
    "    frontier = deque([node])\n",
    "    explored = set()\n",
    "    while frontier:\n",
    "        node = frontier.popleft()\n",
    "        explored.add(node.state)\n",
    "        for child in node.expand(problem):\n",
    "            if child.state not in explored and child not in frontier:\n",
    "                if problem.goal_test(child.state):\n",
    "                    return child\n",
    "                frontier.append(child)\n",
    "    return None"
   ]
  },
  {
   "cell_type": "code",
   "execution_count": 54,
   "id": "50a2aa52",
   "metadata": {},
   "outputs": [
    {
     "name": "stdout",
     "output_type": "stream",
     "text": [
      "Nodes in graphs are : ['Addis Ababa', 'Adama', 'Debre Berhan', 'Ambo', 'Matahara', 'Asella', 'Batu', 'Wolkite', 'Nekemte', 'Debre Sina', 'Awash', 'Assasa', 'Buta Jirra', 'Shashamene', 'Worabe', 'Jimma', 'Bedelle', 'Gimbi', 'Kemise', 'Debre Markos', 'Chiro', 'Gobi Rasu', 'Dodolla', 'Hawassa', 'Hossana', 'Bonga', 'Gore', 'Dambidollo', 'Dessie', 'Finote Selam', 'Dire Dawa', 'Samara', 'Bale', 'Dilla', 'Wolaita Sodo', 'Dawro', 'Tepi', 'Mizan Teferi', 'Gambella', 'Assosa', 'Woldia', 'Bahirdar', 'Injibara', 'Harar', 'Fanti Rasu', 'Alamata', 'Liben', 'Goba', 'Sof Oumer', 'Bulehora', 'Arba Minchi', 'Basketo', 'Metekel', 'Lalibella', 'Debre Tabor', 'Azezo', 'Babile', 'Kilbet Rasu', 'Mekelle', 'Sekota', 'Dega Habur', 'Kebri Dehar', 'Yabello', 'Konso', 'Benchi Maji', 'Gondar', 'Metema', 'Jigjiga', 'Adwa', 'Adigrat', 'Gode', 'Werdez', 'Moyale', 'Debarke', 'Axum', 'Shire', 'Humera', 'Dollo']\n",
      "The connections from the goal are : {'Assosa', 'Gimbi', 'Gambella'}\n",
      "Breadth First Search from Addis Ababa to Dambidollo\n",
      "The connections from  Addis Ababa  to  Dambidollo ['Addis Ababa', 'Ambo', 'Nekemte', 'Gimbi', 'Dambidollo']\n"
     ]
    }
   ],
   "source": [
    "#Example: checking  BFS fom Addis Ababa to Dambi Dollo\n",
    "print(\"Nodes in graphs are :\", Travel_Ethiopia.nodes())\n",
    "print(\"The connections from the goal are :\", Travel_Ethiopia.get('Dambidollo'))\n",
    "Travel_Ethiopia_problem = GraphProblem('Addis Ababa','Dambidollo', Travel_Ethiopia)\n",
    "print(\"Breadth First Search from Addis Ababa to Dambidollo\")\n",
    "finalnode = breadth_first_search(Travel_Ethiopia_problem)\n",
    "if (finalnode is not None ) : \n",
    "    print(\"The connections from \", Travel_Ethiopia_problem.initial, \" to \", Travel_Ethiopia_problem.goal, finalnode.solution())\n",
    "else:\n",
    "    print(\"path does not exists\")"
   ]
  },
  {
   "cell_type": "code",
   "execution_count": 55,
   "id": "31a9c8c5",
   "metadata": {},
   "outputs": [],
   "source": [
    "#DFS\n",
    "def depth_first_search(problem):\n",
    "   \n",
    "    frontier = [(Node(problem.initial))]\n",
    "\n",
    "    explored = set()\n",
    "    while frontier:\n",
    "        node = frontier.pop()\n",
    "        if problem.goal_test(node.state):\n",
    "            return node\n",
    "        explored.add(node.state)\n",
    "        frontier.extend(child for child in node.expand(problem)\n",
    "                        if child.state not in explored and child not in frontier)\n",
    "    return None"
   ]
  },
  {
   "cell_type": "code",
   "execution_count": 56,
   "id": "e36f6afd",
   "metadata": {},
   "outputs": [
    {
     "name": "stdout",
     "output_type": "stream",
     "text": [
      "Nodes in graphs are : ['Addis Ababa', 'Adama', 'Debre Berhan', 'Ambo', 'Matahara', 'Asella', 'Batu', 'Wolkite', 'Nekemte', 'Debre Sina', 'Awash', 'Assasa', 'Buta Jirra', 'Shashamene', 'Worabe', 'Jimma', 'Bedelle', 'Gimbi', 'Kemise', 'Debre Markos', 'Chiro', 'Gobi Rasu', 'Dodolla', 'Hawassa', 'Hossana', 'Bonga', 'Gore', 'Dambidollo', 'Dessie', 'Finote Selam', 'Dire Dawa', 'Samara', 'Bale', 'Dilla', 'Wolaita Sodo', 'Dawro', 'Tepi', 'Mizan Teferi', 'Gambella', 'Assosa', 'Woldia', 'Bahirdar', 'Injibara', 'Harar', 'Fanti Rasu', 'Alamata', 'Liben', 'Goba', 'Sof Oumer', 'Bulehora', 'Arba Minchi', 'Basketo', 'Metekel', 'Lalibella', 'Debre Tabor', 'Azezo', 'Babile', 'Kilbet Rasu', 'Mekelle', 'Sekota', 'Dega Habur', 'Kebri Dehar', 'Yabello', 'Konso', 'Benchi Maji', 'Gondar', 'Metema', 'Jigjiga', 'Adwa', 'Adigrat', 'Gode', 'Werdez', 'Moyale', 'Debarke', 'Axum', 'Shire', 'Humera', 'Dollo']\n",
      "The connections from Gode are : {'Kebri Dehar', 'Dollo'}\n",
      "Depth First Search from Addis Ababa to Gode\n",
      "solution of  Addis Ababa  to  Gode ['Addis Ababa', 'Debre Berhan', 'Debre Sina', 'Debre Markos', 'Finote Selam', 'Injibara', 'Bahirdar', 'Metekel', 'Assosa', 'Dambidollo', 'Gambella', 'Gore', 'Tepi', 'Mizan Teferi', 'Basketo', 'Arba Minchi', 'Konso', 'Yabello', 'Bulehora', 'Dilla', 'Hawassa', 'Shashamene', 'Batu', 'Adama', 'Asella', 'Assasa', 'Dodolla', 'Bale', 'Goba', 'Dega Habur', 'Kebri Dehar', 'Gode']\n"
     ]
    }
   ],
   "source": [
    "#Example:checking  depth first search fom Addis Ababa to Gode\n",
    "print(\"Nodes in graphs are :\", Travel_Ethiopia.nodes())\n",
    "print(\"The connections from Gode are :\", Travel_Ethiopia.get('Gode'))\n",
    "Travel_Ethiopia_problem = GraphProblem('Addis Ababa','Gode', Travel_Ethiopia)\n",
    "\n",
    "print(\"Depth First Search from Addis Ababa to Gode\")\n",
    "finalnode = depth_first_search(Travel_Ethiopia_problem)\n",
    "if (finalnode is not None ) : \n",
    "    print(\"solution of \", Travel_Ethiopia_problem.initial, \" to \", Travel_Ethiopia_problem.goal, finalnode.solution())\n",
    "else:\n",
    "    print(\"path does not exists\")"
   ]
  },
  {
   "cell_type": "markdown",
   "id": "56ab0596",
   "metadata": {},
   "source": [
    "# 2. Given Figure 2, a state space graph with backward cost for the traveling Ethiopia search Problem. "
   ]
  },
  {
   "cell_type": "markdown",
   "id": "1dec0140",
   "metadata": {},
   "source": [
    "2.1 Convert Figure 2 into some sort of manageable data structure such as, stack or queue."
   ]
  },
  {
   "cell_type": "code",
   "execution_count": 57,
   "id": "932217d1",
   "metadata": {},
   "outputs": [],
   "source": [
    "def path(previous, s): \n",
    "    '''\n",
    "    `previous` is a dictionary chaining together the predecessor state that led to each state\n",
    "    `s` will be None for the initial state\n",
    "    otherwise, start from the last state `s` and recursively trace `previous` back to the initial state,\n",
    "    constructing a list of states visited as we go\n",
    "    '''\n",
    "    if s is None:\n",
    "        return []\n",
    "    else:\n",
    "        return path(previous, previous[s])+[s]\n",
    "\n",
    "def pathcost(path, step_costs):\n",
    "    '''\n",
    "    add up the step costs along a path, which is assumed to be a list output from the `path` function above\n",
    "    '''\n",
    "    cost = 0\n",
    "    for s in range(len(path)-1):\n",
    "        cost += step_costs[path[s]][path[s+1]]\n",
    "    return cost\n"
   ]
  },
  {
   "cell_type": "code",
   "execution_count": 58,
   "id": "9110d2c5",
   "metadata": {},
   "outputs": [],
   "source": [
    "Cities_of_Ethiopia = dict( {'Addis Ababa': {'Adama':3, 'Ambo':5, 'Debre Berhan':5},\n",
    "             'Adama': {'Matahara':3, 'Asella':4, 'Batu':4, 'Addis Ababa':3}, \n",
    "             'Ambo': {'Wolkite':6, 'Addis Ababa':9, 'Nekemte':5}, \n",
    "             'Debre Berhan': {'Addis Ababa':5, 'Debre Sina':2}, \n",
    "             'Matahara': {'Adama':3, 'Awash':1}, \n",
    "             'Asella': {'Adama':4, 'Assasa':4}, \n",
    "             'Batu': {'Adama':4, 'Buta Jirra':2, 'Shashamene':3}, \n",
    "             'Wolkite': {'Ambo':6, 'Worabe':5, 'Jimma':8}, \n",
    "             'Nekemte': {'Ambo':9, 'Bedelle':5, 'Gimbi':4}, \n",
    "             'Debre Sina': {'Debre Berhan':2, 'Kemise':6, 'Debre Markos':17}, \n",
    "             'Awash': {'Chiro':4, 'Gobi Rasu':5, 'Matahara':1}, \n",
    "             'Assasa': {'Asella':4, 'Dodolla':1}, \n",
    "             'Buta Jirra': {'Batu':2, 'Worabe':2}, \n",
    "             'Shashamene': {'Batu':3, 'Hawassa':1, 'Dodolla':3, 'Hossana':7}, \n",
    "             'Worabe': {'Wolkite':5, 'Hossana':2, 'Buta Jirra':2}, \n",
    "             'Jimma': {'Wolkite':8, 'Bonga':4, 'Bedelle':7}, \n",
    "            'Bedelle': {'Nekemte':5, 'Gore':6, 'Jimma':7}, \n",
    "             'Gimbi': {'Nekemte':4, 'Dambidollo':6}, \n",
    "             'Kemise': {'Debre Sina':6, 'Dessie':4}, \n",
    "             'Debre Markos': {'Debre Sina':17, 'Finote Selam':3},\n",
    "             'Chiro': {'Awash':4, 'Dire Dawa':8}, \n",
    "             'Gobi Rasu': {'Awash':5, 'Samara':9}, \n",
    "             'Dodolla': {'Assasa':1, 'Shashamene':3, 'Bale':13}, \n",
    "             'Hawassa': {'Shashamene':1, 'Dilla':3}, \n",
    "             'Hossana': {'Shashamene':7, 'Worabe':2, 'Wolaita Sodo':4}, \n",
    "             'Bonga': {'Jimma':4, 'Dawro':10, 'Tepi':8, 'Mizan Teferi':4}, \n",
    "             'Gore': {'Tepi':9, 'Gambella':5, 'Bedelle':6}, \n",
    "             'Dambidollo': {'Gimbi':6, 'Assosa':12, 'Gambella':4}, \n",
    "            'Dessie': {'Kemise':4, 'Woldia':6}, \n",
    "            'Finote Selam': {'Debre Markos':3, 'Bahirdar':6, 'Injibara':2}, \n",
    "             'Dire Dawa': { 'Chiro':8, 'Harar':4}, \n",
    "             'Samara': { 'Gobi Rasu':9, 'Fanti Rasu':7, 'Alamata':11, 'Woldia':8},\n",
    "            'Bale': {'Liben':11, 'Dodolla':13, 'Goba':18, 'Sof Oumer':23}, \n",
    "             'Dilla': {'Hawassa':3, 'Bulehora':4}, \n",
    "             'Wolaita Sodo': {'Arba Minchi':5, 'Dawro':6, 'Hossana':4}, \n",
    "             'Dawro': { 'Bonga':10, 'Wolaita Sodo':10}, \n",
    "             'Tepi': {'Gore':9, 'Bonga':8, 'Mizan Teferi':4}, \n",
    "            'Mizan Teferi': {'Tepi':4, 'Bonga':4}, \n",
    "             'Gambella': {'Gore':5, 'Dambidollo':4}, \n",
    "             'Assosa': {'Dambidollo':12}, \n",
    "            'Woldia': {'Dessie':6, 'Lalibella':7, 'Samara':8, 'Alamata':3},\n",
    "             'Bahirdar': {'Finote Selam':6, 'Injibara':4, 'Metekel':11, 'Azezo':7, 'Debre Tabor':4}, \n",
    "             'Injibara': {'Bahirdar':4, 'Finote Selam':2}, \n",
    "             'Harar': { 'Dire Dawa':4, 'Babile':2}, \n",
    "             'Fanti Rasu': {'Samara':7, 'Kilbet Rasu':6}, \n",
    "             'Alamata': {'Samara':11, 'Woldia':3, 'Mekelle':5, 'Sekota':6}, \n",
    "             'Liben': {'Bale':11}, \n",
    "             'Goba': {'Bale':18, 'Sof Oumer':6, 'Babile':28}, \n",
    "             'Sof Oumer': {'Goba':6, 'Bale':23, 'Gode':23}, \n",
    "            'Bulehora': { 'Dilla':4, 'Yabello':3}, \n",
    "            'Arba Minchi': {'Wolaita Sodo':5, 'Konso':4, 'Basketo':10}, \n",
    "             'Basketo': { 'Arba Minchi':10, 'Benchi Maji':5}, \n",
    "             'Metekel': { 'Bahirdar':11},\n",
    "             'Lalibella': {'Woldia':7, 'Debre Tabor':8, 'Sekota':6},\n",
    "             'Debre Tabor': {'Lalibella':8, 'Bahirdar':4}, \n",
    "             'Azezo': {'Gondar':1, 'Bahirdar':7, 'Metema':7}, \n",
    "             'Babile': { 'Harar':2, 'Jigjiga':3,'Goba':28}, \n",
    "             'Kilbet Rasu': {'Fanti Rasu':6}, \n",
    "             'Mekelle': {'Alamata':5, 'Adwa':7, 'Adigrat':4, 'Sekota':9}, \n",
    "             'Sekota': {'Alamata':6, 'Mekelle':9, 'Lalibella':6}, \n",
    "            'Dega Habur': {'Jigjiga':5, 'Kebri Dehar':6}, \n",
    "            'Kebri Dehar': {'Gode':5, 'Dega Habur':6, 'Werdez':6}, \n",
    "            'Yabello': { 'Bulehora':3, 'Konso':3, 'Moyale':6}, \n",
    "            'Konso': {'Arba Minchi':4, 'Yabello':3}, \n",
    "            'Benchi Maji': { 'Basketo':5}, \n",
    "            'Gondar': { 'Azezo':1, 'Humera':9, 'Metema':7, 'Debarke':4},\n",
    "            'Metema': { 'Azezo':7, 'Gondar':7},  \n",
    "            'Jigjiga': { 'Babile':3, 'Dega Habur':5}, \n",
    "            'Adwa': { 'Mekelle':7, 'Axum':1, 'Adigrat':4},\n",
    "            'Adigrat': { 'Mekelle':4, 'Adwa':4}, \n",
    "            'Gode': { 'Dollo':17, 'Kebri Dehar':5, 'Sof Oumer':23 }, \n",
    "            'Werdez': { 'Kebri Dehar':6}, \n",
    "            'Moyale': { 'Yabello':6}, \n",
    "            'Debarke': { 'Gondar':4, 'Shire':7}, \n",
    "            'Axum': {'Shire':2, 'Adwa':1}, \n",
    "            'Dollo': { 'Gode':17}, \n",
    "            'Shire': { 'Axum':2, 'Humera':8, 'Debarke':7},\n",
    "            'Humera': { 'Shire':8, 'Gondar':9}})"
   ]
  },
  {
   "cell_type": "markdown",
   "id": "eb2f4b63",
   "metadata": {},
   "source": [
    "2.2 Assuming “Addis Ababa” as an initial state, write a program that use uniform cost search\n",
    "to generate a path to “Lalibela”."
   ]
  },
  {
   "cell_type": "code",
   "execution_count": 59,
   "id": "1bdafa1a",
   "metadata": {},
   "outputs": [],
   "source": [
    "import heapq"
   ]
  },
  {
   "cell_type": "code",
   "execution_count": 60,
   "id": "cc5199d3",
   "metadata": {},
   "outputs": [],
   "source": [
    "class Frontier_PQ():\n",
    "    def __init__(self, start, cost = 0):\n",
    "        self.start = start\n",
    "        self.cost = cost\n",
    "        self.states = {start:cost} # the explored nodes\n",
    "        self.q = [[cost, start]] # the can-be-explored nodes\n",
    "    \n",
    "    def add(self,state,cost):\n",
    "        self.states[state]=cost\n",
    "        heapq.heappush(self.q,[cost,state])\n",
    "    \n",
    "    def pop(self):\n",
    "        return heapq.heappop(self.q)\n",
    "    \n",
    "    def replace(self,state,cost):\n",
    "        self.states[state]=cost\n",
    "        for i,tup in enumerate(self.q):\n",
    "            if tup[1]==state:\n",
    "                self.q[i][0]=cost"
   ]
  },
  {
   "cell_type": "code",
   "execution_count": 61,
   "id": "78f098b8",
   "metadata": {},
   "outputs": [],
   "source": [
    "\n",
    "def uniform_cost(start, goal, state_graph, return_cost):\n",
    "    frontier = Frontier_PQ(start)\n",
    "    visited = set()\n",
    "    prev = {start:None}\n",
    "   \n",
    "    while frontier.q:\n",
    "        cost, curr = frontier.pop()\n",
    "        if curr == goal:\n",
    "            p = path(prev, curr)\n",
    "            return (p, pathcost(p, state_graph)) if return_cost else p\n",
    "        visited.add(curr)\n",
    "       \n",
    "        for adj in state_graph[curr]:\n",
    "            if adj not in visited:\n",
    "                if adj not in frontier.states:\n",
    "                    prev[adj]=curr\n",
    "                    frontier.add(adj,cost+state_graph[curr][adj])\n",
    "                elif frontier.states[adj] > cost+state_graph[curr][adj]:\n",
    "                    prev[adj]=curr\n",
    "                    frontier.replace(adj,cost+state_graph[curr][adj])\n"
   ]
  },
  {
   "cell_type": "code",
   "execution_count": 62,
   "id": "d3816f63",
   "metadata": {},
   "outputs": [
    {
     "name": "stdout",
     "output_type": "stream",
     "text": [
      "(['Addis Ababa', 'Debre Berhan', 'Debre Sina', 'Kemise', 'Dessie', 'Woldia', 'Lalibella'], 30)\n"
     ]
    }
   ],
   "source": [
    "print(uniform_cost(\"Addis Ababa\", \"Lalibella\", Cities_of_Ethiopia , True))"
   ]
  },
  {
   "cell_type": "markdown",
   "id": "3f700a61",
   "metadata": {},
   "source": [
    "2.3  Given “Addis Ababa” as an initial state and “Axum”, “Gondar”, “Lalibela”, Babile,\n",
    "“Jimma”, “Bale”, “Sof Oumer”, and “Arba Minch” as goal states;in no specific order, write\n",
    "a customized uniform cost search algorithm to generate a path that let a visitor visit all those\n",
    "goal states preserving the local optimum."
   ]
  },
  {
   "cell_type": "code",
   "execution_count": 63,
   "id": "0e5cce08",
   "metadata": {},
   "outputs": [],
   "source": [
    "def calc_UCS(start,goals):\n",
    "    goal_cost = dict()\n",
    "    min_cost = float('inf')\n",
    "    min_cost_city = None\n",
    "    min_cost_path = None\n",
    "    for goal in goals:  \n",
    "        print(start,goals)\n",
    "        res = uniform_cost(start, goal, Cities_of_Ethiopia , True)\n",
    "        path,cost = res\n",
    "        goal_cost[goal] = cost\n",
    "        if cost < min_cost: \n",
    "            min_cost = cost\n",
    "            min_cost_city = goal\n",
    "            min_cost_path = path\n",
    "    print(goal_cost)\n",
    "    return min_cost_city,min_cost_path, min_cost\n"
   ]
  },
  {
   "cell_type": "code",
   "execution_count": 64,
   "id": "69549ea1",
   "metadata": {},
   "outputs": [
    {
     "name": "stdout",
     "output_type": "stream",
     "text": [
      "Addis Ababa ['Axum', 'Gondar', 'Lalibella', 'Babile', 'Jimma', 'Bale', 'Sof Oumer', 'Arba Minchi']\n",
      "Addis Ababa ['Axum', 'Gondar', 'Lalibella', 'Babile', 'Jimma', 'Bale', 'Sof Oumer', 'Arba Minchi']\n",
      "Addis Ababa ['Axum', 'Gondar', 'Lalibella', 'Babile', 'Jimma', 'Bale', 'Sof Oumer', 'Arba Minchi']\n",
      "Addis Ababa ['Axum', 'Gondar', 'Lalibella', 'Babile', 'Jimma', 'Bale', 'Sof Oumer', 'Arba Minchi']\n",
      "Addis Ababa ['Axum', 'Gondar', 'Lalibella', 'Babile', 'Jimma', 'Bale', 'Sof Oumer', 'Arba Minchi']\n",
      "Addis Ababa ['Axum', 'Gondar', 'Lalibella', 'Babile', 'Jimma', 'Bale', 'Sof Oumer', 'Arba Minchi']\n",
      "Addis Ababa ['Axum', 'Gondar', 'Lalibella', 'Babile', 'Jimma', 'Bale', 'Sof Oumer', 'Arba Minchi']\n",
      "Addis Ababa ['Axum', 'Gondar', 'Lalibella', 'Babile', 'Jimma', 'Bale', 'Sof Oumer', 'Arba Minchi']\n",
      "{'Axum': 39, 'Gondar': 41, 'Lalibella': 30, 'Babile': 25, 'Jimma': 19, 'Bale': 25, 'Sof Oumer': 48, 'Arba Minchi': 22}\n"
     ]
    },
    {
     "data": {
      "text/plain": [
       "('Jimma', ['Addis Ababa', 'Ambo', 'Wolkite', 'Jimma'], 19)"
      ]
     },
     "execution_count": 64,
     "metadata": {},
     "output_type": "execute_result"
    }
   ],
   "source": [
    "goals = [\"Axum\", \"Gondar\", \"Lalibella\", \"Babile\", \"Jimma\", \"Bale\", \"Sof Oumer\", \"Arba Minchi\"]\n",
    "start = \"Addis Ababa\"\n",
    "res = calc_UCS(start,goals)\n",
    "res"
   ]
  },
  {
   "cell_type": "code",
   "execution_count": 65,
   "id": "4065bfd5",
   "metadata": {},
   "outputs": [
    {
     "name": "stdout",
     "output_type": "stream",
     "text": [
      "Jimma ['Axum', 'Gondar', 'Lalibella', 'Babile', 'Bale', 'Sof Oumer', 'Arba Minchi']\n",
      "Jimma ['Axum', 'Gondar', 'Lalibella', 'Babile', 'Bale', 'Sof Oumer', 'Arba Minchi']\n",
      "Jimma ['Axum', 'Gondar', 'Lalibella', 'Babile', 'Bale', 'Sof Oumer', 'Arba Minchi']\n",
      "Jimma ['Axum', 'Gondar', 'Lalibella', 'Babile', 'Bale', 'Sof Oumer', 'Arba Minchi']\n",
      "Jimma ['Axum', 'Gondar', 'Lalibella', 'Babile', 'Bale', 'Sof Oumer', 'Arba Minchi']\n",
      "Jimma ['Axum', 'Gondar', 'Lalibella', 'Babile', 'Bale', 'Sof Oumer', 'Arba Minchi']\n",
      "Jimma ['Axum', 'Gondar', 'Lalibella', 'Babile', 'Bale', 'Sof Oumer', 'Arba Minchi']\n",
      "{'Axum': 62, 'Gondar': 64, 'Lalibella': 53, 'Babile': 43, 'Bale': 36, 'Sof Oumer': 59, 'Arba Minchi': 24}\n"
     ]
    },
    {
     "data": {
      "text/plain": [
       "('Arba Minchi',\n",
       " ['Jimma', 'Wolkite', 'Worabe', 'Hossana', 'Wolaita Sodo', 'Arba Minchi'],\n",
       " 24)"
      ]
     },
     "execution_count": 65,
     "metadata": {},
     "output_type": "execute_result"
    }
   ],
   "source": [
    "goals = [\"Axum\", \"Gondar\", \"Lalibella\", \"Babile\", \"Bale\", \"Sof Oumer\", \"Arba Minchi\"]\n",
    "start = \"Jimma\"\n",
    "res = calc_UCS(start,goals)\n",
    "res"
   ]
  },
  {
   "cell_type": "code",
   "execution_count": 66,
   "id": "55e54a09",
   "metadata": {},
   "outputs": [
    {
     "name": "stdout",
     "output_type": "stream",
     "text": [
      "Arba Minchi ['Axum', 'Gondar', 'Lalibella', 'Babile', 'Bale', 'Sof Oumer']\n",
      "Arba Minchi ['Axum', 'Gondar', 'Lalibella', 'Babile', 'Bale', 'Sof Oumer']\n",
      "Arba Minchi ['Axum', 'Gondar', 'Lalibella', 'Babile', 'Bale', 'Sof Oumer']\n",
      "Arba Minchi ['Axum', 'Gondar', 'Lalibella', 'Babile', 'Bale', 'Sof Oumer']\n",
      "Arba Minchi ['Axum', 'Gondar', 'Lalibella', 'Babile', 'Bale', 'Sof Oumer']\n",
      "Arba Minchi ['Axum', 'Gondar', 'Lalibella', 'Babile', 'Bale', 'Sof Oumer']\n",
      "{'Axum': 61, 'Gondar': 63, 'Lalibella': 52, 'Babile': 41, 'Bale': 32, 'Sof Oumer': 55}\n"
     ]
    },
    {
     "data": {
      "text/plain": [
       "('Bale',\n",
       " ['Arba Minchi', 'Wolaita Sodo', 'Hossana', 'Shashamene', 'Dodolla', 'Bale'],\n",
       " 32)"
      ]
     },
     "execution_count": 66,
     "metadata": {},
     "output_type": "execute_result"
    }
   ],
   "source": [
    "goals = [\"Axum\", \"Gondar\", \"Lalibella\", \"Babile\", \"Bale\", \"Sof Oumer\"]\n",
    "start = \"Arba Minchi\"\n",
    "res = calc_UCS(start,goals)\n",
    "res"
   ]
  },
  {
   "cell_type": "code",
   "execution_count": 67,
   "id": "d498fa0d",
   "metadata": {},
   "outputs": [
    {
     "name": "stdout",
     "output_type": "stream",
     "text": [
      "Bale ['Axum', 'Gondar', 'Lalibella', 'Babile', 'Sof Oumer']\n",
      "Bale ['Axum', 'Gondar', 'Lalibella', 'Babile', 'Sof Oumer']\n",
      "Bale ['Axum', 'Gondar', 'Lalibella', 'Babile', 'Sof Oumer']\n",
      "Bale ['Axum', 'Gondar', 'Lalibella', 'Babile', 'Sof Oumer']\n",
      "Bale ['Axum', 'Gondar', 'Lalibella', 'Babile', 'Sof Oumer']\n",
      "{'Axum': 64, 'Gondar': 66, 'Lalibella': 55, 'Babile': 44, 'Sof Oumer': 23}\n"
     ]
    },
    {
     "data": {
      "text/plain": [
       "('Sof Oumer', ['Bale', 'Sof Oumer'], 23)"
      ]
     },
     "execution_count": 67,
     "metadata": {},
     "output_type": "execute_result"
    }
   ],
   "source": [
    "goals = [\"Axum\", \"Gondar\", \"Lalibella\", \"Babile\", \"Sof Oumer\"]\n",
    "start = \"Bale\"\n",
    "res = calc_UCS(start,goals)\n",
    "res"
   ]
  },
  {
   "cell_type": "code",
   "execution_count": 68,
   "id": "b7b630c2",
   "metadata": {},
   "outputs": [
    {
     "name": "stdout",
     "output_type": "stream",
     "text": [
      "Sof Oumer ['Axum', 'Gondar', 'Lalibella', 'Babile']\n",
      "Sof Oumer ['Axum', 'Gondar', 'Lalibella', 'Babile']\n",
      "Sof Oumer ['Axum', 'Gondar', 'Lalibella', 'Babile']\n",
      "Sof Oumer ['Axum', 'Gondar', 'Lalibella', 'Babile']\n",
      "{'Axum': 87, 'Gondar': 89, 'Lalibella': 78, 'Babile': 34}\n"
     ]
    },
    {
     "data": {
      "text/plain": [
       "('Babile', ['Sof Oumer', 'Goba', 'Babile'], 34)"
      ]
     },
     "execution_count": 68,
     "metadata": {},
     "output_type": "execute_result"
    }
   ],
   "source": [
    "goals = [\"Axum\", \"Gondar\", \"Lalibella\", \"Babile\" ]\n",
    "start = \"Sof Oumer\"\n",
    "res = calc_UCS(start,goals)\n",
    "res"
   ]
  },
  {
   "cell_type": "code",
   "execution_count": 69,
   "id": "353551a4",
   "metadata": {},
   "outputs": [
    {
     "name": "stdout",
     "output_type": "stream",
     "text": [
      "Babile ['Axum', 'Gondar', 'Lalibella']\n",
      "Babile ['Axum', 'Gondar', 'Lalibella']\n",
      "Babile ['Axum', 'Gondar', 'Lalibella']\n",
      "{'Axum': 56, 'Gondar': 66, 'Lalibella': 47}\n"
     ]
    },
    {
     "data": {
      "text/plain": [
       "('Lalibella',\n",
       " ['Babile',\n",
       "  'Harar',\n",
       "  'Dire Dawa',\n",
       "  'Chiro',\n",
       "  'Awash',\n",
       "  'Gobi Rasu',\n",
       "  'Samara',\n",
       "  'Woldia',\n",
       "  'Lalibella'],\n",
       " 47)"
      ]
     },
     "execution_count": 69,
     "metadata": {},
     "output_type": "execute_result"
    }
   ],
   "source": [
    "goals = [\"Axum\", \"Gondar\", \"Lalibella\"]\n",
    "start =  \"Babile\" \n",
    "res = calc_UCS(start,goals)\n",
    "res"
   ]
  },
  {
   "cell_type": "code",
   "execution_count": 70,
   "id": "a3d04b45",
   "metadata": {},
   "outputs": [
    {
     "name": "stdout",
     "output_type": "stream",
     "text": [
      "Lalibella ['Axum', 'Gondar']\n",
      "Lalibella ['Axum', 'Gondar']\n",
      "{'Axum': 23, 'Gondar': 20}\n"
     ]
    },
    {
     "data": {
      "text/plain": [
       "('Gondar', ['Lalibella', 'Debre Tabor', 'Bahirdar', 'Azezo', 'Gondar'], 20)"
      ]
     },
     "execution_count": 70,
     "metadata": {},
     "output_type": "execute_result"
    }
   ],
   "source": [
    "goals = [\"Axum\", \"Gondar\"]\n",
    "start =  \"Lalibella\" \n",
    "res = calc_UCS(start,goals)\n",
    "res"
   ]
  },
  {
   "cell_type": "code",
   "execution_count": 71,
   "id": "570e6c82",
   "metadata": {},
   "outputs": [
    {
     "name": "stdout",
     "output_type": "stream",
     "text": [
      "Gondar ['Axum']\n",
      "{'Axum': 13}\n"
     ]
    },
    {
     "data": {
      "text/plain": [
       "('Axum', ['Gondar', 'Debarke', 'Shire', 'Axum'], 13)"
      ]
     },
     "execution_count": 71,
     "metadata": {},
     "output_type": "execute_result"
    }
   ],
   "source": [
    "goals = [\"Axum\"]\n",
    "start =  \"Gondar\" \n",
    "res = calc_UCS(start,goals)\n",
    "res"
   ]
  },
  {
   "cell_type": "markdown",
   "id": "23abbdb2",
   "metadata": {},
   "source": [
    "# 3. Given Figure 3, a state space graph with heuristic and backward cost. Write a class that use A* search to generate a path from the initial state “Addis Ababa” to goal state “Moyale”."
   ]
  },
  {
   "cell_type": "code",
   "execution_count": 74,
   "id": "3c07690d",
   "metadata": {},
   "outputs": [],
   "source": [
    "#Importing important libraries\n",
    "import numpy as np\n",
    "from collections import deque\n",
    "import heapq"
   ]
  },
  {
   "cell_type": "code",
   "execution_count": 75,
   "id": "d464bce4",
   "metadata": {},
   "outputs": [],
   "source": [
    "def path(previous, s): \n",
    "    if s is None:\n",
    "        return []\n",
    "    else:\n",
    "        return path(previous, previous[s])+[s]\n",
    "\n",
    "def pathcost(path, step_costs):\n",
    "    cost = 0\n",
    "    for s in range(len(path)-1):\n",
    "        cost += step_costs[path[s]][path[s+1]]\n",
    "    return cost"
   ]
  },
  {
   "cell_type": "code",
   "execution_count": 76,
   "id": "afa11480",
   "metadata": {},
   "outputs": [],
   "source": [
    "map_distances = dict( {'Addis Ababa': {'Adama':3, 'Ambo':5, 'Debre Berhan':5,'Debre Markos':13},\n",
    "             'Adama': {'Matahara':3, 'Asella':4, 'Batu':4, 'Addis Ababa':3}, \n",
    "             'Ambo': {'Wolkite':6, 'Addis Ababa':5, 'Nekemte':8}, \n",
    "             'Debre Berhan': {'Addis Ababa':5, 'Debre Sina':2},\n",
    "             'Debre Markos':{'Addis Ababa':13,'Debre Sina':17,'Finote Selam':3},\n",
    "                               \n",
    "             'Matahara': {'Adama':3, 'Awash':1}, \n",
    "             'Asella': {'Adama':4, 'Assasa':4}, \n",
    "             'Batu': {'Adama':4, 'Buta Jirra':2, 'Shashamene':3}, \n",
    "             'Wolkite': {'Ambo':6, 'Worabe':5, 'Jimma':8,'Hossana':5,'Buta Jirra':4}, \n",
    "             'Nekemte': {'Ambo':9, 'Bedelle':5, 'Gimbi':4}, \n",
    "             'Debre Sina': {'Debre Berhan':2, 'Kemise':7, 'Debre Markos':17}, \n",
    "             'Finote Selam': {'Debre Markos':3, 'Bahirdar':6, 'Injibara':2},\n",
    "                               \n",
    "             'Awash': {'Chiro':4, 'Gobi Rasu':5, 'Matahara':1}, \n",
    "             'Assasa': {'Asella':4, 'Dodolla':1}, \n",
    "             'Buta Jirra': {'Batu':2,'Wolkite':4, 'Worabe':2}, \n",
    "             'Shashamene': {'Batu':3,'Dodolla':3, 'Hawassa':1, 'Hossana':7,'Worabe':6}, \n",
    "             'Worabe': {'Wolkite':5, 'Hossana':2,'Shashamene':6, 'Buta Jirra':2}, \n",
    "             'Jimma': {'Wolkite':8, 'Bonga':4, 'Bedelle':7}, \n",
    "             'Hossana': {'Shashamene':7, 'Worabe':2, 'Wolkite':5, 'Wolaita Sodo':4}, \n",
    "             'Bedelle': {'Nekemte':5, 'Gore':6, 'Jimma':7}, \n",
    "             'Gimbi': {'Nekemte':4, 'Dambidollo':6,'Assosa':8}, \n",
    "             'Kemise': {'Debre Sina':6, 'Dessie':4}, \n",
    "             'Bahirdar': {'Finote Selam':6, 'Injibara':4, 'Metekel':11, 'Azezo':7, 'Debre Tabor':4},\n",
    "             'Injibara': {'Bahirdar':4, 'Finote Selam':2},\n",
    "                               \n",
    "                               \n",
    "             'Chiro': {'Awash':4, 'Dire Dawa':8}, \n",
    "             'Gobi Rasu': {'Awash':5, 'Samara':10}, \n",
    "             'Dodolla': {'Assasa':1, 'Shashamene':3, 'Robe':13}, \n",
    "             'Hawassa': {'Shashamene':1, 'Dilla':3}, \n",
    "             'Bonga': {'Jimma':4, 'Dawro':10, 'Tepi':8, 'Mizan Teferi':4}, \n",
    "             'Wolaita Sodo': {'Arba Minchi':4, 'Dawro':6, 'Hossana':4}, \n",
    "             'Gore': {'Tepi':9, 'Gambella':5, 'Bedelle':6}, \n",
    "             'Dambidollo': {'Gimbi':6, 'Assosa':12, 'Gambella':4}, \n",
    "             'Assosa': {'Gimbi':8, 'Dambidollo':12}, \n",
    "             'Dessie': {'Kemise':4, 'Woldia':6},\n",
    "             'Metekel': { 'Bahirdar':11},\n",
    "             'Azezo': {'Gondar':1, 'Bahirdar':7, 'Metema':7}, \n",
    "             'Debre Tabor': {'Lalibella':8, 'Gondar':6, 'Bahirdar':4},\n",
    "             \n",
    "             'Dire Dawa': { 'Chiro':8, 'Harar':4}, \n",
    "             'Samara': { 'Gobi Rasu':10, 'Fanti Rasu':7, 'Alamata':11, 'Woldia':8},\n",
    "             'Robe': {'Liben':11, 'Dodolla':13, 'Goba':18, 'Sof Oumer':23}, \n",
    "             'Dilla': {'Hawassa':3, 'Bulehora':4}, \n",
    "             'Dawro': { 'Bonga':10, 'Wolaita Sodo':6}, \n",
    "             'Tepi': {'Gore':9, 'Bonga':8, 'Mizan Teferi':4}, \n",
    "             'Mizan Teferi': {'Tepi':4, 'Bonga':4}, \n",
    "             'Gambella': {'Gore':5, 'Dambidollo':4}, \n",
    "             'Arba Minchi': {'Wolaita Sodo':5, 'Konso':4, 'Basketo':10},\n",
    "             'Woldia': {'Dessie':6, 'Lalibella':7, 'Samara':8, 'Alamata':3},\n",
    "             'Gondar': { 'Azezo':1, 'Humera':9, 'Metema':7, 'Debarke':4,'Debre Tabor':6},\n",
    "             'Metema': { 'Azezo':7, 'Gondar':7}, \n",
    "             'Lalibella': {'Woldia':7, 'Debre Tabor':8, 'Sekota':6},\n",
    "              \n",
    "              \n",
    "             'Harar': { 'Dire Dawa':4, 'Babile':2}, \n",
    "             'Fanti Rasu': {'Samara':7, 'Kilbet Rasu':6}, \n",
    "             'Alamata': {'Samara':11, 'Woldia':3, 'Mekelle':5, 'Sekota':6}, \n",
    "             'Liben': {'Robe':11}, \n",
    "             'Goba': {'Robe':18, 'Sof Oumer':6, 'Babile':28}, \n",
    "             'Sof Oumer': {'Goba':6, 'Robe':23, 'Gode':23}, \n",
    "             'Bulehora': { 'Dilla':4, 'Yabello':3}, \n",
    "             'Konso': {'Arba Minchi':4, 'Yabello':3}, \n",
    "             'Basketo': { 'Arba Minchi':10, 'Bench Maji':5}, \n",
    "             'Humera': { 'Shire':8, 'Gondar':9},\n",
    "             'Debarke': { 'Gondar':4, 'Shire':7},\n",
    "             'Sekota': {'Alamata':6, 'Mekelle':9, 'Lalibella':6}, \n",
    "             \n",
    "             'Babile': { 'Harar':2, 'Jigjiga':3,'Goba':28}, \n",
    "             'Kilbet Rasu': {'Fanti Rasu':6}, \n",
    "             'Mekelle': {'Alamata':5, 'Adigrat':4, 'Adwa':7, 'Sekota':9},\n",
    "             'Gode': { 'Dollo':17, 'Kebri Dehar':5, 'Sof Oumer':23 }, \n",
    "             'Yabello': { 'Bulehora':3, 'Konso':3, 'Moyale':6},\n",
    "             'Bench Maji': { 'Basketo':5}, \n",
    "             'Shire': { 'Axum':2, 'Humera':8, 'Debarke':7},\n",
    "                               \n",
    "             'Jigjiga': { 'Babile':3, 'Dega Habur':5}, \n",
    "             'Adigrat': { 'Mekelle':4, 'Adwa':4},\n",
    "             'Adwa': { 'Mekelle':7, 'Axum':1, 'Adigrat':4},\n",
    "             'Dollo':{'Gode':17,'Moyale':18},\n",
    "             'Kebri Dehar': {'Gode':5, 'Dega Habur':6, 'Werdez':6}, \n",
    "             'Moyale': { 'Dollo':18,'Liben':11,'Yabello':6}, \n",
    "             'Axum': {'Shire':2, 'Adwa':1},\n",
    "             'Dega Habur': {'Jigjiga':5, 'Kebri Dehar':6}, \n",
    "             'Werdez': { 'Kebri Dehar':6}\n",
    "                      }\n",
    "                    )\n",
    "             "
   ]
  },
  {
   "cell_type": "code",
   "execution_count": 77,
   "id": "5d9f192a",
   "metadata": {},
   "outputs": [],
   "source": [
    "sld_Moyale=dict({\n",
    "             'Addis Ababa':26,\n",
    "             'Adama':23,\n",
    "             'Ambo':31,\n",
    "             'Debre Berhan':31,\n",
    "             'Debre Markos':39,\n",
    "             'Matahara':26,\n",
    "             'Asella':22, \n",
    "             'Batu':19,  \n",
    "             'Wolkite':25,  \n",
    "             'Nekemte':39, \n",
    "             'Debre Sina':33,\n",
    "             'Finote Selam':42,\n",
    "             'Awash':27, \n",
    "             'Assasa':18, \n",
    "             'Buta Jirra':21, \n",
    "             'Shashamene':16, \n",
    "             'Worabe':22, \n",
    "             'Jimma':33,\n",
    "             'Hossana':21,\n",
    "             'Bedelle':40, \n",
    "             'Gimbi':43, \n",
    "             'Kemise':40,  \n",
    "             'Bahirdar':48, \n",
    "             'Injibara':44,\n",
    "                               \n",
    "             'Chiro':31,\n",
    "             'Gobi Rasu':32, \n",
    "    \n",
    "              'Dodolla':19, \n",
    "             \n",
    "              'Hawassa':15, \n",
    "             \n",
    "              'Bonga':33,\n",
    "              'Wolaita Sodo':17, \n",
    "              'Gore':46,  \n",
    "              'Dambidollo':49,\n",
    "              'Assosa':51, \n",
    "              'Dessie':44, \n",
    "              'Metekel':59, \n",
    "              'Azezo':55, \n",
    "              'Debre Tabor':52,\n",
    "             \n",
    "                               \n",
    "                               \n",
    "             'Dire Dawa':31, \n",
    "             'Samara':42, \n",
    "              'Robe':13, \n",
    "             'Dilla':12, \n",
    "             'Dawro':23, \n",
    "             'Tepi':41,\n",
    "             'Mizan Teferi':37, \n",
    "             'Arba Minchi':13, \n",
    "             'Gambella':51,  \n",
    "              \n",
    "             \n",
    "             'Woldia':50,\n",
    "             'Gondar':56, \n",
    "             'Metema':62, \n",
    "             'Lalibella':57,\n",
    "             \n",
    "             'Harar':35, \n",
    "             'Fanti Rasu':49, \n",
    "             'Alamata':53, \n",
    "             'Liben':11, \n",
    "             'Goba':40, \n",
    "             'Sof Oumer':45, \n",
    "              'Bulehora':8, \n",
    "              \n",
    "              'Konso':9, \n",
    "             'Basketo':23,\n",
    "             'Bench Maji':28,\n",
    "    \n",
    "             \n",
    "             'Humera':65, \n",
    "             'Debarke':60,\n",
    "             \n",
    "             'Sekota':59,\n",
    "              \n",
    "              \n",
    "             'Babile':37, \n",
    "             'Kilbet Rasu':55, \n",
    "             'Mekelle':58, \n",
    "            \n",
    "             \n",
    "             'Gode':35, \n",
    "             'Yabello':6, \n",
    "             'Shire':67, \n",
    "             \n",
    "             \n",
    "             \n",
    "            \n",
    "              'Adigrat':62,\n",
    "             'Adwa':65, \n",
    "              'Dollo':18,\n",
    "             'Kebri Dehar':40, \n",
    "             'Moyale':0,\n",
    "             \n",
    "             'Axum':66, \n",
    "                               \n",
    "             'Jigjiga':40,\n",
    "             'Dega Habur':45, \n",
    "             \n",
    "            \n",
    "             \n",
    "             'Kebri Dehar': 40,\n",
    "             'Werdez':4\n",
    "        }\n",
    "        \n",
    "       )"
   ]
  },
  {
   "cell_type": "code",
   "execution_count": 78,
   "id": "8a263f7e",
   "metadata": {},
   "outputs": [],
   "source": [
    "class Frontier_PQ():\n",
    "    def __init__(self, start, cost = 0):\n",
    "        self.start = start\n",
    "        self.cost = cost\n",
    "        self.states = {start:cost} # the explored nodes\n",
    "        self.q = [[cost, start]] # the can-be-explored nodes\n",
    "    \n",
    "    def add(self,state,cost):\n",
    "        self.states[state]=cost\n",
    "        heapq.heappush(self.q,[cost,state])\n",
    "    \n",
    "    def pop(self):\n",
    "        return heapq.heappop(self.q)\n",
    "    \n",
    "    def replace(self,state,cost):\n",
    "        self.states[state]=cost\n",
    "        for i,tup in enumerate(self.q):\n",
    "            if tup[1]==state:\n",
    "                self.q[i][0]=cost"
   ]
  },
  {
   "cell_type": "code",
   "execution_count": 79,
   "id": "5d4f903e",
   "metadata": {},
   "outputs": [
    {
     "name": "stdout",
     "output_type": "stream",
     "text": [
      "0\n"
     ]
    }
   ],
   "source": [
    "def heuristic_sld_Moyale(state):\n",
    "    return sld_Moyale[state]\n",
    "print(heuristic_sld_Moyale(\"Moyale\"))"
   ]
  },
  {
   "cell_type": "code",
   "execution_count": 80,
   "id": "585a46a4",
   "metadata": {},
   "outputs": [],
   "source": [
    "def astar_search(start, goal, state_graph, heuristic, return_cost, return_nexp):\n",
    "    frontier = Frontier_PQ(start)\n",
    "    visited = set()\n",
    "    prev = {start:None}\n",
    "   \n",
    "    while frontier.q:\n",
    "        cost, curr = frontier.pop()\n",
    "        visited.add(curr)\n",
    "        if curr == goal:\n",
    "            p = path(prev, curr)\n",
    "            if return_nexp == False:\n",
    "                return (p, pathcost(p, state_graph)) if return_cost else p\n",
    "            else:\n",
    "                return (p, pathcost(p, state_graph), len(visited)) if return_cost else (p,len(visited))\n",
    "       \n",
    "        for adj in state_graph[curr]:\n",
    "            if adj not in visited:\n",
    "                new_cost = cost + state_graph[curr][adj] + heuristic(adj) - heuristic(curr)\n",
    "                if adj not in frontier.states:\n",
    "                    prev[adj] = curr\n",
    "                    frontier.add(adj, new_cost)\n",
    "                elif frontier.states[adj] > new_cost:\n",
    "                    prev[adj] = curr\n",
    "                    frontier.replace(adj, new_cost)"
   ]
  },
  {
   "cell_type": "code",
   "execution_count": 81,
   "id": "3d3561cd",
   "metadata": {},
   "outputs": [
    {
     "name": "stdout",
     "output_type": "stream",
     "text": [
      "optimal path using A*: ['Addis Ababa', 'Adama', 'Batu', 'Shashamene', 'Hawassa', 'Dilla', 'Bulehora', 'Yabello', 'Moyale']\n",
      "optimal path cost using A*: 27\n",
      "Number of states expanded during search using A*: 9\n"
     ]
    }
   ],
   "source": [
    "ret = astar_search(\"Addis Ababa\", \"Moyale\", map_distances, heuristic_sld_Moyale, True, True)\n",
    "print(\"optimal path using A*:\", ret[0])\n",
    "print(\"optimal path cost using A*:\", ret[1])\n",
    "print(\"Number of states expanded during search using A*:\", ret[2])"
   ]
  },
  {
   "cell_type": "markdown",
   "id": "4010a5e6",
   "metadata": {},
   "source": [
    "# 4. Assume an adversary joins the Traveling Ethiopia Search Problem as shown in Figure 4. The goal of the agent would be to reach to a state where it gains good quality of Coffee. Write a class that shows how MiniMax search algorithm directs an agent to the best achievable destination."
   ]
  },
  {
   "cell_type": "code",
   "execution_count": 82,
   "id": "64cae44c",
   "metadata": {},
   "outputs": [
    {
     "name": "stdout",
     "output_type": "stream",
     "text": [
      "Addis Ababa\n",
      "Adama\n",
      "Mojo\n",
      "Dilla\n"
     ]
    }
   ],
   "source": [
    "ethiopia_coffe_location={\n",
    "\"Addis Ababa\": {\"Ambo\",\"Buta Jirra\", \"Adama\"},\n",
    "\"Ambo\":{\"Gedo\", \"Nekemte\"},\n",
    "\"Buta Jirra\":{\"Worabe\", \"Wolkite\"},\n",
    "\"Adama\":{\"Dire Dawa\", \"Mojo\"},\n",
    "\"Gedo\":{\"Shambu\",\"Fincha\"},\n",
    "\"Nekemte\":{\"Gimbi\", \"Limu\"},\n",
    "\"Worabe\":{\"Hosana\",\"Durame\"},\n",
    "\"Wolkite\":{\"Benchi Naji\",\"Tepi\"},\n",
    "\"Mojo\":{\"Dilla\",\"Kaffa\"},\n",
    "\"Dire Dawa\":{\"Chiro\",\"Harar\"}\n",
    "}\n",
    "print(\"Addis Ababa\")\n",
    "terminal_utilities=[\"Shambu\",\"Fincha\",\"Gimbi\",\"Limu\",\"Hosana\",\"Durame\",\"Benchi Naji\",\"Tepi\",\"Kaffa\",\"Dilla\",\"Chiro\",\"Harar\"]\n",
    "terminals = [4,5,8,8,6,5,5,6,7,9,6,10]\n",
    "is_max = True\n",
    "terminals_1 = []\n",
    "choosen_cities =[]\n",
    "for i in range(0,len(terminals),2): \n",
    "    if is_max:\n",
    "        if terminals[i] > terminals[i+1]: \n",
    "            choosen_cities.append(terminal_utilities[i])\n",
    "        else: \n",
    "            choosen_cities.append(terminal_utilities[i+1])\n",
    "        terminals_1.append(max(terminals[i],terminals[i+1]))\n",
    "\n",
    "# print(terminals_1)\n",
    "# print(choosen_cities)\n",
    "graph = {\n",
    "    \"Fincha\" : \"Gedo\", \n",
    "    \"Limu\" : \"Nekemte\", \n",
    "    \"Hosana\" : \"Worabe\", \n",
    "    \"Tepi\" : \"Wolkite\", \n",
    "    \"Dilla\" : \"Mojo\",\n",
    "    \"Harar\":  \"Dire Dawa\"\n",
    "}\n",
    "is_max = False\n",
    "choosen_cities_2 = [] \n",
    "terminals_2 = []\n",
    "\n",
    "for i in range(0,len(terminals_1),2): \n",
    "    if not is_max:\n",
    "        if terminals_1[i] > terminals_1[i+1]: \n",
    "            choosen_cities_2.append(graph[choosen_cities[i+1]])\n",
    "        else: \n",
    "            choosen_cities_2.append(graph[choosen_cities[i]])\n",
    "        terminals_2.append(min(terminals_1[i],terminals_1[i+1]))\n",
    "# print(\"*\" * 15)\n",
    "# print(choosen_cities_2)\n",
    "# print(terminals_2)\n",
    "\n",
    "graph_1={\n",
    "\"Gedo\" : \"Ambo\",\n",
    "\"Worabe\": \"Buta Jirra\",\n",
    "\"Mojo\" : \"Adama\"}\n",
    "\n",
    "\n",
    "max_city_ind = 0\n",
    "if terminals_2[1] > terminals_2[max_city_ind]:\n",
    "    max_city_ind = 1 \n",
    "if terminals_2[2] > terminals_2[max_city_ind]:\n",
    "    max_city_ind = 2\n",
    "\n",
    "# print(max_city_ind)\n",
    "second_city = choosen_cities_2[max_city_ind]\n",
    "first_choosen_city = graph_1[second_city]\n",
    "print(first_choosen_city)\n",
    "print(second_city)\n",
    "third_city_options = ethiopia_coffe_location[second_city]\n",
    "third_city = None\n",
    "for c in third_city_options: \n",
    "    if c in graph:\n",
    "        third_city = c \n",
    "print(third_city)"
   ]
  },
  {
   "cell_type": "markdown",
   "id": "0a1257d2",
   "metadata": {},
   "source": [
    "# 5. Interactive Intelligent systems: Figure 5 is a relaxed state space graph for traveling Ethiopia search problem. "
   ]
  },
  {
   "cell_type": "markdown",
   "id": "68a2ff93",
   "metadata": {},
   "source": [
    "For this questions I've tried to install Gazebo but due to my computer spect limitation I could not beable to do it \n",
    "successfully."
   ]
  }
 ],
 "metadata": {
  "kernelspec": {
   "display_name": "Python 3 (ipykernel)",
   "language": "python",
   "name": "python3"
  },
  "language_info": {
   "codemirror_mode": {
    "name": "ipython",
    "version": 3
   },
   "file_extension": ".py",
   "mimetype": "text/x-python",
   "name": "python",
   "nbconvert_exporter": "python",
   "pygments_lexer": "ipython3",
   "version": "3.11.5"
  }
 },
 "nbformat": 4,
 "nbformat_minor": 5
}
